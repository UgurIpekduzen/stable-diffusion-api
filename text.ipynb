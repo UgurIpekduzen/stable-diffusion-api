{
 "cells": [
  {
   "cell_type": "code",
   "execution_count": null,
   "metadata": {},
   "outputs": [],
   "source": [
    "import torch\n",
    "import requests\n",
    "from PIL import Image\n",
    "from io import BytesIO\n",
    "from diffusers import StableDiffusionImg2ImgPipeline\n",
    "\n",
    "device = \"cuda\"\n",
    "pipe = StableDiffusionImg2ImgPipeline.from_pretrained(\"nitrosocke/Ghibli-Diffusion\", torch_dtype=torch.float32)"
   ]
  },
  {
   "cell_type": "code",
   "execution_count": null,
   "metadata": {},
   "outputs": [],
   "source": [
    "import torch\n",
    "import requests\n",
    "from PIL import Image\n",
    "from io import BytesIO\n",
    "from diffusers import StableDiffusionImg2ImgPipeline\n",
    "\n",
    "\n",
    "import torch\n",
    "from PIL import Image\n",
    "import requests\n",
    "from io import BytesIO\n",
    "import numpy as np\n",
    "\n",
    "pipe = StableDiffusionImg2ImgPipeline.from_pretrained(\"nitrosocke/Ghibli-Diffusion\", torch_dtype=torch.float32)\n",
    "\n",
    "# Resmi indirme\n",
    "url = \"https://raw.githubusercontent.com/CompVis/stable-diffusion/main/assets/stable-samples/img2img/sketch-mountains-input.jpg\"\n",
    "response = requests.get(url)\n",
    "init_image = Image.open(BytesIO(response.content)).convert(\"RGB\")\n",
    "init_image.thumbnail((768, 768))\n",
    "\n",
    "# Resmi bir PyTorch tensorine dönüştürme\n",
    "init_tensor = torch.tensor(np.array(init_image)).permute(2, 0, 1).float()  # RGB kanalları, yükseklik ve genişlik boyutlarını yeniden düzenler\n",
    "\n",
    "# Eğer gerekiyorsa, tensori normalleştirme (0 ile 1 arasında değerler)\n",
    "init_tensor /= 255.0\n",
    "\n",
    "#model = model.float()  # modeli float32 veri türüne dönüştürün (eğer model adı 'model' ise)\n",
    "init_tensor = init_tensor.float()\n"
   ]
  }
 ],
 "metadata": {
  "language_info": {
   "name": "python"
  }
 },
 "nbformat": 4,
 "nbformat_minor": 2
}
