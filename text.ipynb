{
 "cells": [
  {
   "cell_type": "code",
   "execution_count": 1,
   "metadata": {},
   "outputs": [
    {
     "name": "stderr",
     "output_type": "stream",
     "text": [
      "c:\\Users\\user\\Documents\\GitHub\\stable-diffusion-api\\venv\\Lib\\site-packages\\diffusers\\pipelines\\pipeline_utils.py:1480: FutureWarning: You are trying to load the model files of the `variant=fp16`, but no such modeling files are available.The default model files: {'movq/diffusion_pytorch_model.safetensors', 'movq/diffusion_pytorch_model.bin', 'unet/diffusion_pytorch_model.safetensors', 'unet/diffusion_pytorch_model.bin'} will be loaded instead. Make sure to not load from `variant=fp16`if such variant modeling files are not available. Doing so will lead to an error in v0.22.0 as defaulting to non-variantmodeling files is deprecated.\n",
      "  deprecate(\"no variant default\", \"0.22.0\", deprecation_message, standard_warn=False)\n",
      "movq\\diffusion_pytorch_model.safetensors not found\n"
     ]
    },
    {
     "ename": "OSError",
     "evalue": "Could not found the necessary `safetensors` weights in {'movq/diffusion_pytorch_model.safetensors', 'movq/diffusion_pytorch_model.bin', 'unet/diffusion_pytorch_model.safetensors', 'unet/diffusion_pytorch_model.bin'} (variant=fp16)",
     "output_type": "error",
     "traceback": [
      "\u001b[1;31m---------------------------------------------------------------------------\u001b[0m",
      "\u001b[1;31mOSError\u001b[0m                                   Traceback (most recent call last)",
      "\u001b[1;32mc:\\Users\\user\\Documents\\GitHub\\stable-diffusion-api\\text.ipynb Cell 1\u001b[0m line \u001b[0;36m1\n\u001b[0;32m      <a href='vscode-notebook-cell:/c%3A/Users/user/Documents/GitHub/stable-diffusion-api/text.ipynb#W5sZmlsZQ%3D%3D?line=6'>7</a>\u001b[0m \u001b[39massert\u001b[39;00m torch\u001b[39m.\u001b[39mcuda\u001b[39m.\u001b[39mis_available()\n\u001b[0;32m      <a href='vscode-notebook-cell:/c%3A/Users/user/Documents/GitHub/stable-diffusion-api/text.ipynb#W5sZmlsZQ%3D%3D?line=8'>9</a>\u001b[0m torch\u001b[39m.\u001b[39mcuda\u001b[39m.\u001b[39mempty_cache()\n\u001b[1;32m---> <a href='vscode-notebook-cell:/c%3A/Users/user/Documents/GitHub/stable-diffusion-api/text.ipynb#W5sZmlsZQ%3D%3D?line=9'>10</a>\u001b[0m pipeline \u001b[39m=\u001b[39m AutoPipelineForImage2Image\u001b[39m.\u001b[39;49mfrom_pretrained(\u001b[39m\"\u001b[39;49m\u001b[39mkandinsky-community/kandinsky-2-2-decoder\u001b[39;49m\u001b[39m\"\u001b[39;49m, torch_dtype\u001b[39m=\u001b[39;49mtorch\u001b[39m.\u001b[39;49mfloat16, variant\u001b[39m=\u001b[39;49m\u001b[39m\"\u001b[39;49m\u001b[39mfp16\u001b[39;49m\u001b[39m\"\u001b[39;49m, use_safetensors\u001b[39m=\u001b[39;49m\u001b[39mTrue\u001b[39;49;00m)\u001b[39m.\u001b[39mto(\u001b[39m\"\u001b[39m\u001b[39mcuda\u001b[39m\u001b[39m\"\u001b[39m)\n\u001b[0;32m     <a href='vscode-notebook-cell:/c%3A/Users/user/Documents/GitHub/stable-diffusion-api/text.ipynb#W5sZmlsZQ%3D%3D?line=10'>11</a>\u001b[0m \u001b[39m# pipe = StableDiffusionImg2ImgPipeline.from_pretrained(\"stabilityai/stable-diffusion-2-1\", torch_dtype=torch.float16).to(\"cuda\")\u001b[39;00m\n\u001b[0;32m     <a href='vscode-notebook-cell:/c%3A/Users/user/Documents/GitHub/stable-diffusion-api/text.ipynb#W5sZmlsZQ%3D%3D?line=11'>12</a>\u001b[0m pipeline\u001b[39m.\u001b[39menable_model_cpu_offload()\n",
      "File \u001b[1;32mc:\\Users\\user\\Documents\\GitHub\\stable-diffusion-api\\venv\\Lib\\site-packages\\diffusers\\pipelines\\auto_pipeline.py:602\u001b[0m, in \u001b[0;36mAutoPipelineForImage2Image.from_pretrained\u001b[1;34m(cls, pretrained_model_or_path, **kwargs)\u001b[0m\n\u001b[0;32m    599\u001b[0m image_2_image_cls \u001b[39m=\u001b[39m _get_task_class(AUTO_IMAGE2IMAGE_PIPELINES_MAPPING, orig_class_name)\n\u001b[0;32m    601\u001b[0m kwargs \u001b[39m=\u001b[39m {\u001b[39m*\u001b[39m\u001b[39m*\u001b[39mload_config_kwargs, \u001b[39m*\u001b[39m\u001b[39m*\u001b[39mkwargs}\n\u001b[1;32m--> 602\u001b[0m \u001b[39mreturn\u001b[39;00m image_2_image_cls\u001b[39m.\u001b[39;49mfrom_pretrained(pretrained_model_or_path, \u001b[39m*\u001b[39;49m\u001b[39m*\u001b[39;49mkwargs)\n",
      "File \u001b[1;32mc:\\Users\\user\\Documents\\GitHub\\stable-diffusion-api\\venv\\Lib\\site-packages\\diffusers\\pipelines\\pipeline_utils.py:939\u001b[0m, in \u001b[0;36mDiffusionPipeline.from_pretrained\u001b[1;34m(cls, pretrained_model_name_or_path, **kwargs)\u001b[0m\n\u001b[0;32m    936\u001b[0m \u001b[39m# 1. Download the checkpoints and configs\u001b[39;00m\n\u001b[0;32m    937\u001b[0m \u001b[39m# use snapshot download here to get it working from from_pretrained\u001b[39;00m\n\u001b[0;32m    938\u001b[0m \u001b[39mif\u001b[39;00m \u001b[39mnot\u001b[39;00m os\u001b[39m.\u001b[39mpath\u001b[39m.\u001b[39misdir(pretrained_model_name_or_path):\n\u001b[1;32m--> 939\u001b[0m     cached_folder \u001b[39m=\u001b[39m \u001b[39mcls\u001b[39;49m\u001b[39m.\u001b[39;49mdownload(\n\u001b[0;32m    940\u001b[0m         pretrained_model_name_or_path,\n\u001b[0;32m    941\u001b[0m         cache_dir\u001b[39m=\u001b[39;49mcache_dir,\n\u001b[0;32m    942\u001b[0m         resume_download\u001b[39m=\u001b[39;49mresume_download,\n\u001b[0;32m    943\u001b[0m         force_download\u001b[39m=\u001b[39;49mforce_download,\n\u001b[0;32m    944\u001b[0m         proxies\u001b[39m=\u001b[39;49mproxies,\n\u001b[0;32m    945\u001b[0m         local_files_only\u001b[39m=\u001b[39;49mlocal_files_only,\n\u001b[0;32m    946\u001b[0m         use_auth_token\u001b[39m=\u001b[39;49muse_auth_token,\n\u001b[0;32m    947\u001b[0m         revision\u001b[39m=\u001b[39;49mrevision,\n\u001b[0;32m    948\u001b[0m         from_flax\u001b[39m=\u001b[39;49mfrom_flax,\n\u001b[0;32m    949\u001b[0m         use_safetensors\u001b[39m=\u001b[39;49muse_safetensors,\n\u001b[0;32m    950\u001b[0m         use_onnx\u001b[39m=\u001b[39;49muse_onnx,\n\u001b[0;32m    951\u001b[0m         custom_pipeline\u001b[39m=\u001b[39;49mcustom_pipeline,\n\u001b[0;32m    952\u001b[0m         custom_revision\u001b[39m=\u001b[39;49mcustom_revision,\n\u001b[0;32m    953\u001b[0m         variant\u001b[39m=\u001b[39;49mvariant,\n\u001b[0;32m    954\u001b[0m         load_connected_pipeline\u001b[39m=\u001b[39;49mload_connected_pipeline,\n\u001b[0;32m    955\u001b[0m         \u001b[39m*\u001b[39;49m\u001b[39m*\u001b[39;49mkwargs,\n\u001b[0;32m    956\u001b[0m     )\n\u001b[0;32m    957\u001b[0m \u001b[39melse\u001b[39;00m:\n\u001b[0;32m    958\u001b[0m     cached_folder \u001b[39m=\u001b[39m pretrained_model_name_or_path\n",
      "File \u001b[1;32mc:\\Users\\user\\Documents\\GitHub\\stable-diffusion-api\\venv\\Lib\\site-packages\\diffusers\\pipelines\\pipeline_utils.py:1531\u001b[0m, in \u001b[0;36mDiffusionPipeline.download\u001b[1;34m(cls, pretrained_model_name, **kwargs)\u001b[0m\n\u001b[0;32m   1522\u001b[0m passed_components \u001b[39m=\u001b[39m [k \u001b[39mfor\u001b[39;00m k \u001b[39min\u001b[39;00m expected_components \u001b[39mif\u001b[39;00m k \u001b[39min\u001b[39;00m kwargs]\n\u001b[0;32m   1524\u001b[0m \u001b[39mif\u001b[39;00m (\n\u001b[0;32m   1525\u001b[0m     use_safetensors\n\u001b[0;32m   1526\u001b[0m     \u001b[39mand\u001b[39;00m \u001b[39mnot\u001b[39;00m allow_pickle\n\u001b[1;32m   (...)\u001b[0m\n\u001b[0;32m   1529\u001b[0m     )\n\u001b[0;32m   1530\u001b[0m ):\n\u001b[1;32m-> 1531\u001b[0m     \u001b[39mraise\u001b[39;00m \u001b[39mEnvironmentError\u001b[39;00m(\n\u001b[0;32m   1532\u001b[0m         \u001b[39mf\u001b[39m\u001b[39m\"\u001b[39m\u001b[39mCould not found the necessary `safetensors` weights in \u001b[39m\u001b[39m{\u001b[39;00mmodel_filenames\u001b[39m}\u001b[39;00m\u001b[39m (variant=\u001b[39m\u001b[39m{\u001b[39;00mvariant\u001b[39m}\u001b[39;00m\u001b[39m)\u001b[39m\u001b[39m\"\u001b[39m\n\u001b[0;32m   1533\u001b[0m     )\n\u001b[0;32m   1534\u001b[0m \u001b[39mif\u001b[39;00m from_flax:\n\u001b[0;32m   1535\u001b[0m     ignore_patterns \u001b[39m=\u001b[39m [\u001b[39m\"\u001b[39m\u001b[39m*.bin\u001b[39m\u001b[39m\"\u001b[39m, \u001b[39m\"\u001b[39m\u001b[39m*.safetensors\u001b[39m\u001b[39m\"\u001b[39m, \u001b[39m\"\u001b[39m\u001b[39m*.onnx\u001b[39m\u001b[39m\"\u001b[39m, \u001b[39m\"\u001b[39m\u001b[39m*.pb\u001b[39m\u001b[39m\"\u001b[39m]\n",
      "\u001b[1;31mOSError\u001b[0m: Could not found the necessary `safetensors` weights in {'movq/diffusion_pytorch_model.safetensors', 'movq/diffusion_pytorch_model.bin', 'unet/diffusion_pytorch_model.safetensors', 'unet/diffusion_pytorch_model.bin'} (variant=fp16)"
     ]
    }
   ],
   "source": [
    "import torch\n",
    "from PIL import Image\n",
    "# from diffusers import StableDiffusionImg2ImgPipeline \n",
    "from diffusers import AutoPipelineForImage2Image\n",
    "import webcolors  \n",
    "from io import BytesIO\n",
    "assert torch.cuda.is_available()\n",
    "\n",
    "torch.cuda.empty_cache()\n",
    "pipeline = AutoPipelineForImage2Image.from_pretrained(\"kandinsky-community/kandinsky-2-2-decoder\", torch_dtype=torch.float16, variant=\"fp16\", use_safetensors=True).to(\"cuda\")\n",
    "# pipe = StableDiffusionImg2ImgPipeline.from_pretrained(\"stabilityai/stable-diffusion-2-1\", torch_dtype=torch.float16).to(\"cuda\")\n",
    "pipeline.enable_model_cpu_offload()\n",
    "pipeline.enable_xformers_memory_efficient_attention()\n",
    "\n",
    "def allowed_file(filename):\n",
    "    return '.' in filename and filename.rsplit('.', 1)[1].lower() in {\"jpg\", \"jpeg\", \"png\", \"gif\"}\n",
    "\n",
    "def closest_color(rgb):\n",
    "    diffs = {}\n",
    "    for color_hex, color_name in webcolors.CSS3_HEX_TO_NAMES.items():\n",
    "        r, g, b = webcolors.hex_to_rgb(color_hex)\n",
    "        diffs[sum([(r - rgb[0])**2,\n",
    "                   (g - rgb[1])**2,\n",
    "                   (b - rgb[2])**2])] = color_name\n",
    "        \n",
    "    return diffs[min(diffs.keys())]\n",
    "\n",
    "def convert_to_rgb(hexcode):\n",
    "    try:\n",
    "        # Hex renk kodundan gereksiz karakterleri kaldırın ve doğrudan RGB'ye çevirin\n",
    "        hexcode = hexcode.replace('\"', '').lstrip(\"#\") \n",
    "        rgb = tuple(int(hexcode[i:i+2], 16) for i in (0, 2, 4))\n",
    "        return rgb\n",
    "    except ValueError:\n",
    "        # Hata durumunda varsayılan bir değer döndürün (örneğin siyah renk: (0, 0, 0))\n",
    "        return (0, 0, 0)\n",
    "\n",
    "def generate_img(image, prompt, hexcode):\n",
    "    if allowed_file(image):\n",
    "        # Convert and process the image\n",
    "        prompt += closest_color(convert_to_rgb(hexcode))\n",
    "        print(prompt)\n",
    "        image = Image.open(image)\n",
    "        image = image.convert(\"RGB\")\n",
    "        buf = BytesIO()\n",
    "        image.save(buf, format='PNG')\n",
    "        output = pipeline(prompt=prompt, image=image, generator=generator).images[0]\n",
    "        \n",
    "        return output  # Image nesnesini dön\n",
    "\n",
    "\n",
    "\n",
    "seed = torch.randint(0, 1000000, (1,)).item()\n",
    "generator = torch.Generator(\"cuda\").manual_seed(seed)\n",
    "\n",
    "aiimg_hexcode = \"#7FFF33\"\n",
    "prompt = \"A coffee cup on a table, oil painting, 4k, detailed, background color: \"\n",
    "image = \"coffee_cup1.png\"\n",
    "\n",
    "generate_img(image, prompt, aiimg_hexcode)"
   ]
  },
  {
   "cell_type": "code",
   "execution_count": null,
   "metadata": {},
   "outputs": [],
   "source": [
    "# output"
   ]
  },
  {
   "cell_type": "code",
   "execution_count": null,
   "metadata": {},
   "outputs": [],
   "source": []
  }
 ],
 "metadata": {
  "kernelspec": {
   "display_name": "venv",
   "language": "python",
   "name": "python3"
  },
  "language_info": {
   "codemirror_mode": {
    "name": "ipython",
    "version": 3
   },
   "file_extension": ".py",
   "mimetype": "text/x-python",
   "name": "python",
   "nbconvert_exporter": "python",
   "pygments_lexer": "ipython3",
   "version": "3.11.6"
  }
 },
 "nbformat": 4,
 "nbformat_minor": 2
}
